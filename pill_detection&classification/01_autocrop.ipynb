{
 "cells": [
  {
   "cell_type": "code",
   "execution_count": 1,
   "metadata": {},
   "outputs": [],
   "source": [
    "import cv2 \n",
    "import os"
   ]
  },
  {
   "cell_type": "code",
   "execution_count": 2,
   "metadata": {},
   "outputs": [
    {
     "data": {
      "text/plain": [
       "'4.1.0'"
      ]
     },
     "execution_count": 2,
     "metadata": {},
     "output_type": "execute_result"
    }
   ],
   "source": [
    "from cv2 import __version__\n",
    "__version__"
   ]
  },
  {
   "cell_type": "code",
   "execution_count": 7,
   "metadata": {},
   "outputs": [],
   "source": [
    "directory = './taken/'"
   ]
  },
  {
   "cell_type": "code",
   "execution_count": 8,
   "metadata": {},
   "outputs": [],
   "source": [
    "for i in os.listdir(directory):\n",
    "    image = cv2.imread(directory + i)\n",
    "    edged = cv2.Canny(image, 100, 200)  # Canny edge detection\n",
    "    (cnts, _) = cv2.findContours(edged, cv2.RETR_EXTERNAL, cv2.CHAIN_APPROX_SIMPLE)\n",
    "    idx = 0\n",
    "    for c in cnts:\n",
    "        x,y,w,h = cv2.boundingRect(c)\n",
    "        if w>150 and 1000>w and h>150 and 1000>h:   # w 가로 h 세로 min, max\n",
    "            idx+=1\n",
    "            new_img=image[y:y+h,x:x+w]\n",
    "            cv2.imwrite(i[:-4] + str(idx) + '.jpg', new_img)"
   ]
  },
  {
   "cell_type": "markdown",
   "metadata": {},
   "source": [
    "### cv2.findContours(image, mode, method[, contours[, hierarchy[, offset]]])\n",
    "### Parameters:\t\n",
    "#### image – 8-bit single-channel image. binary image.\n",
    "### mode\n",
    "#### –contours를 찾는 방법\n",
    "\n",
    "- cv2.RETR_EXTERNAL : contours line중 가장 바같쪽 Line만 찾음.\n",
    "- cv2.RETR_LIST : 모든 contours line을 찾지만, hierachy 관계를 구성하지 않음.\n",
    "- cv2.RETR_CCOMP : 모든 contours line을 찾으며, hieracy관계는 2-level로 구성함.\n",
    "- cv2.RETR_TREE : 모든 contours line을 찾으며, 모든 hieracy관계를 구성함.\n",
    "\n",
    "### method\n",
    "#### –contours를 찾을 때 사용하는 근사치 방법\n",
    "\n",
    "- cv2.CHAIN_APPROX_NONE : 모든 contours point를 저장.\n",
    "- cv2.CHAIN_APPROX_SIMPLE : contours line을 그릴 수 있는 point 만 저장. (ex; 사각형이면 4개 point)\n",
    "- cv2.CHAIN_APPROX_TC89_L1 : contours point를 찾는 algorithm\n",
    "- cv2.CHAIN_APPROX_TC89_KCOS : contours point를 찾는 algorithm\n",
    "\n",
    "#### Returns: image, contours , hierachy"
   ]
  },
  {
   "cell_type": "code",
   "execution_count": null,
   "metadata": {},
   "outputs": [],
   "source": []
  }
 ],
 "metadata": {
  "kernelspec": {
   "display_name": "Python 3",
   "language": "python",
   "name": "python3"
  },
  "language_info": {
   "codemirror_mode": {
    "name": "ipython",
    "version": 3
   },
   "file_extension": ".py",
   "mimetype": "text/x-python",
   "name": "python",
   "nbconvert_exporter": "python",
   "pygments_lexer": "ipython3",
   "version": "3.6.8"
  }
 },
 "nbformat": 4,
 "nbformat_minor": 2
}
