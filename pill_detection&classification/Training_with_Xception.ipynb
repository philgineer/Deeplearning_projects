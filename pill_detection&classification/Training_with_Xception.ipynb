{
 "cells": [
  {
   "cell_type": "code",
   "execution_count": null,
   "metadata": {
    "_cell_guid": "b1076dfc-b9ad-4769-8c92-a6c4dae69d19",
    "_uuid": "8f2839f25d086af736a60e9eeb907d3b93b6e0e5",
    "colab": {},
    "colab_type": "code",
    "id": "bFt5WfaAdFbV"
   },
   "outputs": [],
   "source": [
    "import numpy as np # linear algebra\n",
    "import pandas as pd # data processing, CSV file I/O (e.g. pd.read_csv)\n",
    "import os"
   ]
  },
  {
   "cell_type": "code",
   "execution_count": null,
   "metadata": {
    "_cell_guid": "79c7e3d0-c299-4dcb-8224-4455121ee9b0",
    "_uuid": "d629ff2d2480ee46fbb7e2d37f6b5fab8052498a",
    "colab": {},
    "colab_type": "code",
    "id": "-V4R-Us3dFbf"
   },
   "outputs": [],
   "source": [
    "import gc\n",
    "import os\n",
    "import warnings\n",
    "import seaborn as sns\n",
    "import matplotlib.pyplot as plt\n",
    "from tqdm import tqdm\n",
    "import PIL\n",
    "from PIL import ImageDraw\n",
    "from sklearn.model_selection import StratifiedKFold\n",
    "\n",
    "from keras import backend as K\n",
    "from keras.preprocessing.image import ImageDataGenerator\n",
    "\n",
    "from keras.applications import Xception\n",
    "from keras.callbacks import EarlyStopping, ReduceLROnPlateau, ModelCheckpoint\n",
    "from keras import layers, models, optimizers"
   ]
  },
  {
   "cell_type": "code",
   "execution_count": 31,
   "metadata": {
    "colab": {
     "base_uri": "https://localhost:8080/",
     "height": 34
    },
    "colab_type": "code",
    "executionInfo": {
     "elapsed": 1552,
     "status": "ok",
     "timestamp": 1566395412253,
     "user": {
      "displayName": "장동근",
      "photoUrl": "",
      "userId": "04055126958846334883"
     },
     "user_tz": -540
    },
    "id": "eaFzUQhLdFbm",
    "outputId": "20648dd6-428e-49d6-f8c6-5f3acdd60adf"
   },
   "outputs": [
    {
     "data": {
      "text/plain": [
       "'channels_last'"
      ]
     },
     "execution_count": 31,
     "metadata": {
      "tags": []
     },
     "output_type": "execute_result"
    }
   ],
   "source": [
    "warnings.filterwarnings(action='ignore')\n",
    "\n",
    "K.image_data_format()"
   ]
  },
  {
   "cell_type": "code",
   "execution_count": 32,
   "metadata": {
    "colab": {
     "base_uri": "https://localhost:8080/",
     "height": 34
    },
    "colab_type": "code",
    "executionInfo": {
     "elapsed": 4340,
     "status": "ok",
     "timestamp": 1566395418833,
     "user": {
      "displayName": "장동근",
      "photoUrl": "",
      "userId": "04055126958846334883"
     },
     "user_tz": -540
    },
    "id": "ZqfBl2NRdVoZ",
    "outputId": "575e3c51-a670-40aa-d915-4e95c2a8d84c"
   },
   "outputs": [
    {
     "name": "stdout",
     "output_type": "stream",
     "text": [
      "Mounted at /gdrive\n"
     ]
    }
   ],
   "source": [
    "from google.colab import drive\n",
    "drive.mount('/gdrive', force_remount=True)"
   ]
  },
  {
   "cell_type": "code",
   "execution_count": 33,
   "metadata": {
    "colab": {
     "base_uri": "https://localhost:8080/",
     "height": 238
    },
    "colab_type": "code",
    "executionInfo": {
     "elapsed": 902,
     "status": "ok",
     "timestamp": 1566395423143,
     "user": {
      "displayName": "장동근",
      "photoUrl": "",
      "userId": "04055126958846334883"
     },
     "user_tz": -540
    },
    "id": "T0wFCroPdcqL",
    "outputId": "72052f7d-b64a-4a09-d727-94ddf1767dcd"
   },
   "outputs": [
    {
     "data": {
      "text/plain": [
       "['cache',\n",
       " 'models',\n",
       " 'json',\n",
       " 'img_out',\n",
       " 'raw_img',\n",
       " 'train_read',\n",
       " 'class.csv',\n",
       " '.ipynb_checkpoints',\n",
       " 'test_real',\n",
       " 'train_real.csv',\n",
       " 'test_real.csv',\n",
       " 'train.csv',\n",
       " 'train']"
      ]
     },
     "execution_count": 33,
     "metadata": {
      "tags": []
     },
     "output_type": "execute_result"
    }
   ],
   "source": [
    "os.listdir('/gdrive/My Drive/Colab Notebooks/crop')"
   ]
  },
  {
   "cell_type": "code",
   "execution_count": null,
   "metadata": {
    "colab": {},
    "colab_type": "code",
    "id": "X9kqL4LndsIy"
   },
   "outputs": [],
   "source": [
    "DATA_PATH = '/gdrive/My Drive/Colab Notebooks/crop'"
   ]
  },
  {
   "cell_type": "code",
   "execution_count": null,
   "metadata": {
    "colab": {},
    "colab_type": "code",
    "id": "o1Ma-sf4dFbs"
   },
   "outputs": [],
   "source": [
    "IMAGE_SIZE = 299 #Image_size는 사용하는 pretained 모델 별 추천하는 이미지 사이즈를 주기 위해\n",
    "BATCH_SIZE = 4\n",
    "EPOCHS = 100"
   ]
  },
  {
   "cell_type": "code",
   "execution_count": null,
   "metadata": {
    "colab": {},
    "colab_type": "code",
    "id": "T4vFbkfadFbt"
   },
   "outputs": [],
   "source": [
    "import os\n",
    "import numpy as np\n",
    "import pandas as pd"
   ]
  },
  {
   "cell_type": "code",
   "execution_count": null,
   "metadata": {
    "colab": {},
    "colab_type": "code",
    "id": "qtj7N-3MdFbz"
   },
   "outputs": [],
   "source": [
    "# 이미지 폴더 경로\n",
    "TRAIN_IMG_PATH = os.path.join(DATA_PATH, 'train')\n",
    "\n",
    "# CSV 파일 경로 !!\n",
    "df_train = pd.read_csv(os.path.join(DATA_PATH, 'train.csv'))\n",
    "df_class = pd.read_csv(os.path.join(DATA_PATH, 'class.csv'))"
   ]
  },
  {
   "cell_type": "code",
   "execution_count": null,
   "metadata": {
    "colab": {},
    "colab_type": "code",
    "id": "UMcFFTC_dFb0"
   },
   "outputs": [],
   "source": [
    "def del_index(a):  # window는 생략!\n",
    "    if '.DS_Store' in a:\n",
    "        del a[a.index('.DS_Store')]\n",
    "        print('.DS_Store 삭제')\n",
    "    if '.ipynb_checkpoints' in a:\n",
    "        del a[a.index('.ipynb_checkpoints')]\n",
    "        print('checkpoints 삭제')"
   ]
  },
  {
   "cell_type": "code",
   "execution_count": null,
   "metadata": {
    "colab": {},
    "colab_type": "code",
    "id": "bmK4owvodFb2"
   },
   "outputs": [],
   "source": [
    "train_list = os.listdir(TRAIN_IMG_PATH)\n",
    "#test_list = os.listdir(TEST_IMG_PATH)"
   ]
  },
  {
   "cell_type": "code",
   "execution_count": null,
   "metadata": {
    "colab": {},
    "colab_type": "code",
    "id": "V84M1RBOdFb4"
   },
   "outputs": [],
   "source": [
    "del_index(train_list)\n",
    "#del_index(test_list)"
   ]
  },
  {
   "cell_type": "code",
   "execution_count": 41,
   "metadata": {
    "colab": {
     "base_uri": "https://localhost:8080/",
     "height": 34
    },
    "colab_type": "code",
    "executionInfo": {
     "elapsed": 1062,
     "status": "ok",
     "timestamp": 1566395446163,
     "user": {
      "displayName": "장동근",
      "photoUrl": "",
      "userId": "04055126958846334883"
     },
     "user_tz": -540
    },
    "id": "7yzYg8DhdFb6",
    "outputId": "2aa9719c-5344-43ed-eb16-30033621dfb4"
   },
   "outputs": [
    {
     "name": "stdout",
     "output_type": "stream",
     "text": [
      "Train file 누락 없음!\n"
     ]
    }
   ],
   "source": [
    "# Data 누락 체크\n",
    "if set(list(df_train.img)) == set(train_list) :\n",
    "    print(\"Train file 누락 없음!\")\n",
    "else : \n",
    "    print(\"Train file 누락\")\n",
    "\n",
    "#if set(list(df_test.img)) == set(test_list) :\n",
    "#    print(\"Test file 누락 없음!\")\n",
    "#else : \n",
    "#    print(\"Test file 누락\")"
   ]
  },
  {
   "cell_type": "code",
   "execution_count": 42,
   "metadata": {
    "colab": {
     "base_uri": "https://localhost:8080/",
     "height": 136
    },
    "colab_type": "code",
    "executionInfo": {
     "elapsed": 990,
     "status": "ok",
     "timestamp": 1566395449076,
     "user": {
      "displayName": "장동근",
      "photoUrl": "",
      "userId": "04055126958846334883"
     },
     "user_tz": -540
    },
    "id": "DVr81ah6dFb7",
    "outputId": "c50e56ef-b2d9-45c4-8d34-87281147fd86"
   },
   "outputs": [
    {
     "name": "stdout",
     "output_type": "stream",
     "text": [
      "Number of Train Data : 710\n",
      "타겟 클래스 총 갯수 : 19185\n",
      "Train Data의 타겟 종류 갯수 : 355\n",
      "Class with most count : 642900990\n",
      "Most Count : 2\n",
      "Class with fewest count : 2\n",
      "Mean : 2.0\n"
     ]
    }
   ],
   "source": [
    "# Data 갯수\n",
    "print(\"Number of Train Data : {}\".format(df_train.shape[0]))\n",
    "#print(\"Number of Test Data : {}\".format(df_test.shape[0]))\n",
    "print(\"타겟 클래스 총 갯수 : {}\".format(df_class.shape[0]))\n",
    "print(\"Train Data의 타겟 종류 갯수 : {}\".format(df_train['class'].nunique()))\n",
    "\n",
    "cntEachClass = df_train[\"class\"].value_counts(ascending=False)\n",
    "# Data 정보\n",
    "print(\"Class with most count : {}\".format(cntEachClass.index[0]))\n",
    "print(\"Most Count : {}\".format(cntEachClass.max()))\n",
    "print(\"Class with fewest count : {}\".format(cntEachClass.min()))\n",
    "print(\"Mean : {}\".format(cntEachClass.mean()))"
   ]
  },
  {
   "cell_type": "code",
   "execution_count": 43,
   "metadata": {
    "colab": {
     "base_uri": "https://localhost:8080/",
     "height": 51
    },
    "colab_type": "code",
    "executionInfo": {
     "elapsed": 1055,
     "status": "ok",
     "timestamp": 1566395470157,
     "user": {
      "displayName": "장동근",
      "photoUrl": "",
      "userId": "04055126958846334883"
     },
     "user_tz": -540
    },
    "id": "-DXY6UDydFcF",
    "outputId": "8f1d223f-cbcb-4aef-bb40-fd6b00e01609"
   },
   "outputs": [
    {
     "name": "stdout",
     "output_type": "stream",
     "text": [
      "(710, 2)\n",
      "(710, 2)\n"
     ]
    }
   ],
   "source": [
    "from sklearn.model_selection import train_test_split      #split 생략!\n",
    "\n",
    "df_train[\"class\"] = df_train[\"class\"].astype('str')\n",
    "\n",
    "df_train = df_train[['img','class']]\n",
    "\n",
    "X_train = df_train\n",
    "X_val = df_train\n",
    "\n",
    "print(X_train.shape)\n",
    "print(X_val.shape)\n",
    "#print(df_test.shape)"
   ]
  },
  {
   "cell_type": "code",
   "execution_count": null,
   "metadata": {
    "colab": {},
    "colab_type": "code",
    "id": "CwV_Dh2fdFcG"
   },
   "outputs": [],
   "source": [
    "model_path = '../model/'\n",
    "if not os.path.exists(model_path):\n",
    "    os.mkdir(model_path)"
   ]
  },
  {
   "cell_type": "code",
   "execution_count": null,
   "metadata": {
    "colab": {},
    "colab_type": "code",
    "id": "3-fqSLzDdFcH"
   },
   "outputs": [],
   "source": [
    "def get_callback(model_name, patient):\n",
    "    ES = EarlyStopping(monitor = 'val_loss',\n",
    "                      patience = patient,\n",
    "                      mode = 'min',\n",
    "                      verbose = 1)\n",
    "    RR = ReduceLROnPlateau(monitor = 'val_loss',\n",
    "                          factor = 0.5,\n",
    "                          patience = patient / 2,\n",
    "                          min_lr = 0.000001,\n",
    "                          verbose = 1,\n",
    "                          mode = 'min')\n",
    "    MC = ModelCheckpoint(filepath = filepath,\n",
    "                        monitor = 'val_loss',\n",
    "                        verbose = 1, \n",
    "                        save_best_only = True,\n",
    "                        mode ='min')\n",
    "    return [ES,RR,MC]"
   ]
  },
  {
   "cell_type": "code",
   "execution_count": null,
   "metadata": {
    "colab": {},
    "colab_type": "code",
    "id": "ZoEhjudydFcI"
   },
   "outputs": [],
   "source": [
    "def get_model(model_name, iamge_size):\n",
    "    base_model = Xception(weights='imagenet', include_top=False)\n",
    "    #base_model.trainable = False\n",
    "    model = Sequential()\n",
    "    model.add(base_model)\n",
    "    model.add(layers.GlobalAveragePooling2D())\n",
    "    model.add(layers.Dense(1024, activation='relu'))\n",
    "    model.add(layers.Dropout(0.25))\n",
    "    model.add(layers.Dense(1024, activation='relu'))\n",
    "    model.add(layers.Dropout(0.25))\n",
    "    model.add(layers.Dense(355, activation='softmax'))\n",
    "    model.summary()\n",
    "\n",
    "    optimizer = optimizers.RMSprop(lr=0.0001)\n",
    "    model.compile(loss='categorical_crossentropy', optimizer=optimizer, metrics=['acc'])\n",
    "\n",
    "    return model"
   ]
  },
  {
   "cell_type": "code",
   "execution_count": 47,
   "metadata": {
    "colab": {
     "base_uri": "https://localhost:8080/",
     "height": 51
    },
    "colab_type": "code",
    "executionInfo": {
     "elapsed": 1442,
     "status": "ok",
     "timestamp": 1566395479755,
     "user": {
      "displayName": "장동근",
      "photoUrl": "",
      "userId": "04055126958846334883"
     },
     "user_tz": -540
    },
    "id": "jwUG-AHudFcJ",
    "outputId": "83b00448-3cf1-4e21-c459-e2ae8c39f555"
   },
   "outputs": [
    {
     "name": "stdout",
     "output_type": "stream",
     "text": [
      "Found 710 validated image filenames belonging to 355 classes.\n",
      "Found 710 validated image filenames belonging to 355 classes.\n"
     ]
    }
   ],
   "source": [
    "from keras.preprocessing.image import ImageDataGenerator\n",
    "from keras.applications.mobilenet import MobileNet, preprocess_input\n",
    "from keras.models import Sequential, Model\n",
    "from keras.layers import Dense,Dropout,Flatten,Activation, Conv2D, GlobalAveragePooling2D\n",
    "# Parameter\n",
    "#img_size = (224, 224)\n",
    "#nb_train_samples = len(X_train)\n",
    "#nb_validation_samples = len(X_val)\n",
    "#nb_test_samples = len(df_test)\n",
    "#epochs = 20\n",
    "#batch_size = 32\n",
    "\n",
    "# Define Generator config\n",
    "train_datagen = ImageDataGenerator(\n",
    "    rescale = 1./255,\n",
    "    rotation_range = 20,\n",
    "    width_shift_range = 0.2,\n",
    "    height_shift_range = 0.2,\n",
    "    horizontal_flip = True, \n",
    "    vertical_flip = False,\n",
    "    zoom_range=0.2,\n",
    "    fill_mode = 'nearest'\n",
    "    #preprocessing_function=preprocess_input)\n",
    ")\n",
    "\n",
    "val_datagen = ImageDataGenerator(rescale = 1./255\n",
    "#preprocessing_function=preprocess_input)\n",
    "                                )\n",
    "test_datagen = ImageDataGenerator(rescale = 1./255\n",
    "#preprocessing_function=preprocess_input\n",
    "                                )\n",
    "# Make Generator\n",
    "\n",
    "train_generator = train_datagen.flow_from_dataframe(\n",
    "    dataframe=X_train, \n",
    "    directory=TRAIN_IMG_PATH,\n",
    "    x_col = 'img',\n",
    "    y_col = 'class',\n",
    "    target_size = (IMAGE_SIZE,IMAGE_SIZE),\n",
    "    color_mode='rgb',\n",
    "    class_mode='categorical',\n",
    "    batch_size=32,\n",
    "    seed=42,\n",
    "    shuffle = True)\n",
    "    \n",
    "valid_generator = val_datagen.flow_from_dataframe(\n",
    "    dataframe=X_val, \n",
    "    directory=TRAIN_IMG_PATH,\n",
    "    x_col = 'img',\n",
    "    y_col = 'class',\n",
    "    target_size = (IMAGE_SIZE,IMAGE_SIZE),\n",
    "    color_mode='rgb',\n",
    "    class_mode='categorical',\n",
    "    batch_size=32,\n",
    "    shuffle = True)\n"
   ]
  },
  {
   "cell_type": "code",
   "execution_count": 48,
   "metadata": {
    "colab": {
     "base_uri": "https://localhost:8080/",
     "height": 1000
    },
    "colab_type": "code",
    "executionInfo": {
     "elapsed": 6826938,
     "status": "ok",
     "timestamp": 1566402308878,
     "user": {
      "displayName": "장동근",
      "photoUrl": "",
      "userId": "04055126958846334883"
     },
     "user_tz": -540
    },
    "id": "s4Wc_j3ndFcT",
    "outputId": "d0bef592-6e16-4930-9e04-5da0d8ae3e1e"
   },
   "outputs": [
    {
     "name": "stdout",
     "output_type": "stream",
     "text": [
      "_________________________________________________________________\n",
      "Layer (type)                 Output Shape              Param #   \n",
      "=================================================================\n",
      "xception (Model)             (None, None, None, 2048)  20861480  \n",
      "_________________________________________________________________\n",
      "global_average_pooling2d_4 ( (None, 2048)              0         \n",
      "_________________________________________________________________\n",
      "dense_10 (Dense)             (None, 1024)              2098176   \n",
      "_________________________________________________________________\n",
      "dropout_7 (Dropout)          (None, 1024)              0         \n",
      "_________________________________________________________________\n",
      "dense_11 (Dense)             (None, 1024)              1049600   \n",
      "_________________________________________________________________\n",
      "dropout_8 (Dropout)          (None, 1024)              0         \n",
      "_________________________________________________________________\n",
      "dense_12 (Dense)             (None, 355)               363875    \n",
      "=================================================================\n",
      "Total params: 24,373,131\n",
      "Trainable params: 24,318,603\n",
      "Non-trainable params: 54,528\n",
      "_________________________________________________________________\n",
      "Epoch 1/100\n",
      "178/177 [==============================] - 303s 2s/step - loss: 5.4692 - acc: 0.0527 - val_loss: 4.4354 - val_acc: 0.4425\n",
      "\n",
      "Epoch 00001: val_loss improved from inf to 4.43535, saving model to my_Xception_model_0.44_4.4354.h5\n",
      "Epoch 2/100\n",
      "178/177 [==============================] - 282s 2s/step - loss: 3.2128 - acc: 0.3646 - val_loss: 1.3161 - val_acc: 0.8493\n",
      "\n",
      "Epoch 00002: val_loss improved from 4.43535 to 1.31606, saving model to my_Xception_model_0.85_1.3161.h5\n",
      "Epoch 3/100\n",
      "178/177 [==============================] - 282s 2s/step - loss: 1.4108 - acc: 0.6589 - val_loss: 0.3465 - val_acc: 0.9264\n",
      "\n",
      "Epoch 00003: val_loss improved from 1.31606 to 0.34648, saving model to my_Xception_model_0.93_0.3465.h5\n",
      "Epoch 4/100\n",
      "178/177 [==============================] - 283s 2s/step - loss: 0.6455 - acc: 0.8296 - val_loss: 0.1274 - val_acc: 0.9634\n",
      "\n",
      "Epoch 00004: val_loss improved from 0.34648 to 0.12743, saving model to my_Xception_model_0.96_0.1274.h5\n",
      "Epoch 5/100\n",
      "178/177 [==============================] - 282s 2s/step - loss: 0.3481 - acc: 0.9110 - val_loss: 0.0824 - val_acc: 0.9718\n",
      "\n",
      "Epoch 00005: val_loss improved from 0.12743 to 0.08242, saving model to my_Xception_model_0.97_0.0824.h5\n",
      "Epoch 6/100\n",
      "178/177 [==============================] - 282s 2s/step - loss: 0.2035 - acc: 0.9442 - val_loss: 0.0378 - val_acc: 0.9876\n",
      "\n",
      "Epoch 00006: val_loss improved from 0.08242 to 0.03775, saving model to my_Xception_model_0.99_0.0378.h5\n",
      "Epoch 7/100\n",
      "178/177 [==============================] - 282s 2s/step - loss: 0.1457 - acc: 0.9576 - val_loss: 0.0261 - val_acc: 0.9880\n",
      "\n",
      "Epoch 00007: val_loss improved from 0.03775 to 0.02614, saving model to my_Xception_model_0.99_0.0261.h5\n",
      "Epoch 8/100\n",
      "178/177 [==============================] - 283s 2s/step - loss: 0.0932 - acc: 0.9743 - val_loss: 0.0212 - val_acc: 0.9902\n",
      "\n",
      "Epoch 00008: val_loss improved from 0.02614 to 0.02124, saving model to my_Xception_model_0.99_0.0212.h5\n",
      "Epoch 9/100\n",
      "178/177 [==============================] - 282s 2s/step - loss: 0.0867 - acc: 0.9771 - val_loss: 0.0254 - val_acc: 0.9914\n",
      "\n",
      "Epoch 00009: val_loss did not improve from 0.02124\n",
      "Epoch 10/100\n",
      "178/177 [==============================] - 282s 2s/step - loss: 0.0620 - acc: 0.9824 - val_loss: 0.0307 - val_acc: 0.9905\n",
      "\n",
      "Epoch 00010: ReduceLROnPlateau reducing learning rate to 4.999999873689376e-05.\n",
      "\n",
      "Epoch 00010: val_loss did not improve from 0.02124\n",
      "Epoch 11/100\n",
      "178/177 [==============================] - 282s 2s/step - loss: 0.0363 - acc: 0.9915 - val_loss: 0.0070 - val_acc: 0.9956\n",
      "\n",
      "Epoch 00011: val_loss improved from 0.02124 to 0.00703, saving model to my_Xception_model_1.00_0.0070.h5\n",
      "Epoch 12/100\n",
      "178/177 [==============================] - 283s 2s/step - loss: 0.0346 - acc: 0.9887 - val_loss: 0.0059 - val_acc: 0.9958\n",
      "\n",
      "Epoch 00012: val_loss improved from 0.00703 to 0.00592, saving model to my_Xception_model_1.00_0.0059.h5\n",
      "Epoch 13/100\n",
      "178/177 [==============================] - 282s 2s/step - loss: 0.0264 - acc: 0.9919 - val_loss: 0.0062 - val_acc: 0.9985\n",
      "\n",
      "Epoch 00013: val_loss did not improve from 0.00592\n",
      "Epoch 14/100\n",
      "178/177 [==============================] - 282s 2s/step - loss: 0.0231 - acc: 0.9931 - val_loss: 0.0054 - val_acc: 0.9958\n",
      "\n",
      "Epoch 00014: val_loss improved from 0.00592 to 0.00545, saving model to my_Xception_model_1.00_0.0054.h5\n",
      "Epoch 15/100\n",
      "178/177 [==============================] - 282s 2s/step - loss: 0.0228 - acc: 0.9912 - val_loss: 0.0044 - val_acc: 0.9973\n",
      "\n",
      "Epoch 00015: val_loss improved from 0.00545 to 0.00442, saving model to my_Xception_model_1.00_0.0044.h5\n",
      "Epoch 16/100\n",
      "178/177 [==============================] - 283s 2s/step - loss: 0.0217 - acc: 0.9922 - val_loss: 0.0042 - val_acc: 0.9987\n",
      "\n",
      "Epoch 00016: val_loss improved from 0.00442 to 0.00418, saving model to my_Xception_model_1.00_0.0042.h5\n",
      "Epoch 17/100\n",
      "178/177 [==============================] - 282s 2s/step - loss: 0.0144 - acc: 0.9959 - val_loss: 0.0023 - val_acc: 1.0000\n",
      "\n",
      "Epoch 00017: val_loss improved from 0.00418 to 0.00231, saving model to my_Xception_model_1.00_0.0023.h5\n",
      "Epoch 18/100\n",
      "178/177 [==============================] - 282s 2s/step - loss: 0.0141 - acc: 0.9950 - val_loss: 0.0029 - val_acc: 0.9985\n",
      "\n",
      "Epoch 00018: val_loss did not improve from 0.00231\n",
      "Epoch 19/100\n",
      "178/177 [==============================] - 281s 2s/step - loss: 0.0231 - acc: 0.9946 - val_loss: 0.0063 - val_acc: 0.9971\n",
      "\n",
      "Epoch 00019: ReduceLROnPlateau reducing learning rate to 2.499999936844688e-05.\n",
      "\n",
      "Epoch 00019: val_loss did not improve from 0.00231\n",
      "Epoch 20/100\n",
      "178/177 [==============================] - 282s 2s/step - loss: 0.0129 - acc: 0.9953 - val_loss: 0.0017 - val_acc: 0.9985\n",
      "\n",
      "Epoch 00020: val_loss improved from 0.00231 to 0.00169, saving model to my_Xception_model_1.00_0.0017.h5\n",
      "Epoch 21/100\n",
      "178/177 [==============================] - 281s 2s/step - loss: 0.0097 - acc: 0.9978 - val_loss: 0.0019 - val_acc: 0.9985\n",
      "\n",
      "Epoch 00021: val_loss did not improve from 0.00169\n",
      "Epoch 22/100\n",
      "178/177 [==============================] - 282s 2s/step - loss: 0.0080 - acc: 0.9954 - val_loss: 0.0023 - val_acc: 0.9987\n",
      "\n",
      "Epoch 00022: ReduceLROnPlateau reducing learning rate to 1.249999968422344e-05.\n",
      "\n",
      "Epoch 00022: val_loss did not improve from 0.00169\n",
      "Epoch 23/100\n",
      "178/177 [==============================] - 282s 2s/step - loss: 0.0112 - acc: 0.9960 - val_loss: 0.0024 - val_acc: 0.9985\n",
      "\n",
      "Epoch 00023: val_loss did not improve from 0.00169\n",
      "Epoch 24/100\n",
      "178/177 [==============================] - 283s 2s/step - loss: 0.0073 - acc: 0.9969 - val_loss: 0.0033 - val_acc: 0.9985\n",
      "\n",
      "Epoch 00024: ReduceLROnPlateau reducing learning rate to 6.24999984211172e-06.\n",
      "\n",
      "Epoch 00024: val_loss did not improve from 0.00169\n",
      "Epoch 00024: early stopping\n"
     ]
    },
    {
     "data": {
      "text/plain": [
       "311"
      ]
     },
     "execution_count": 48,
     "metadata": {
      "tags": []
     },
     "output_type": "execute_result"
    }
   ],
   "source": [
    "model_xception = get_model(Xception, IMAGE_SIZE)\n",
    "\n",
    "filepath = \"my_Xception_model_{val_acc:.2f}_{val_loss:.4f}.h5\"\n",
    "\n",
    "history = model_xception.fit_generator(train_generator,\n",
    "                                    steps_per_epoch = len(X_train.index) / BATCH_SIZE,\n",
    "                                    epochs = EPOCHS,\n",
    "                                    validation_data = valid_generator,\n",
    "                                    validation_steps = len(X_val.index) / BATCH_SIZE,\n",
    "                                    verbose = 1,\n",
    "                                    shuffle = False,\n",
    "                                    callbacks = get_callback(model_xception, 4))\n",
    "gc.collect()"
   ]
  },
  {
   "cell_type": "code",
   "execution_count": null,
   "metadata": {
    "colab": {},
    "colab_type": "code",
    "id": "JaaPshOvdFcW"
   },
   "outputs": [],
   "source": [
    "from sklearn.metrics import f1_score\n",
    "def micro_f1(y_true,y_pred):\n",
    "    return f1_score(y_true, y_pred, average='micro')\n",
    "model.compile(optimizer='adam',loss='categorical_crossentropy',metrics=['acc'])"
   ]
  },
  {
   "cell_type": "code",
   "execution_count": null,
   "metadata": {
    "colab": {},
    "colab_type": "code",
    "id": "0Vsfo3C-dFcX"
   },
   "outputs": [],
   "source": [
    "def get_steps(num_samples,batch_size):\n",
    "    if(num_samples %batch_size) > 0:\n",
    "        return (num_samples // batch_size) +1\n",
    "    else:\n",
    "        return num_samples // batch_size"
   ]
  },
  {
   "cell_type": "code",
   "execution_count": null,
   "metadata": {
    "colab": {},
    "colab_type": "code",
    "id": "nXpqvYPjdFcY"
   },
   "outputs": [],
   "source": [
    "# Plot training & validation accuracy values\n",
    "plt.plot(history.history['acc'])\n",
    "plt.plot(history.history['val_acc'])\n",
    "plt.title('Model accuracy')\n",
    "plt.ylabel('Accuracy')\n",
    "plt.xlabel('Epoch')\n",
    "plt.legend(['Train', 'Test'], loc='upper left')\n",
    "plt.show()"
   ]
  },
  {
   "cell_type": "code",
   "execution_count": null,
   "metadata": {
    "colab": {},
    "colab_type": "code",
    "id": "3-_pKADKdFcZ"
   },
   "outputs": [],
   "source": [
    "plt.plot(history.history['loss'])\n",
    "plt.plot(history.history['val_loss'])\n",
    "plt.title('Model loss')\n",
    "plt.ylabel('Loss')\n",
    "plt.xlabel('Epoch')\n",
    "plt.legend(['Train', 'Test'], loc='upper left')\n",
    "plt.show()"
   ]
  },
  {
   "cell_type": "code",
   "execution_count": null,
   "metadata": {
    "colab": {},
    "colab_type": "code",
    "id": "y_8XhCeFdFcZ"
   },
   "outputs": [],
   "source": [
    "model_list = sorted([i for i in os.listdir() if \"my_\" in i])"
   ]
  },
  {
   "cell_type": "code",
   "execution_count": null,
   "metadata": {
    "colab": {},
    "colab_type": "code",
    "id": "Eqi4UjmsdFcb"
   },
   "outputs": [],
   "source": [
    "model_list"
   ]
  },
  {
   "cell_type": "code",
   "execution_count": null,
   "metadata": {
    "colab": {},
    "colab_type": "code",
    "id": "z99UtpJhdFcc"
   },
   "outputs": [],
   "source": [
    "model_xception.load_weights(model_list[-1])"
   ]
  },
  {
   "cell_type": "code",
   "execution_count": null,
   "metadata": {
    "colab": {},
    "colab_type": "code",
    "id": "CoT0zvyBdFcf"
   },
   "outputs": [],
   "source": [
    "%%time\n",
    "test_generator.reset()\n",
    "prediction = model_xception.predict_generator(\n",
    "    generator = test_generator,\n",
    "    steps = len(df_test)/BATCH_SIZE,\n",
    "    verbose=1\n",
    ")"
   ]
  },
  {
   "cell_type": "code",
   "execution_count": null,
   "metadata": {
    "colab": {},
    "colab_type": "code",
    "id": "wxvsZR8fdFcj"
   },
   "outputs": [],
   "source": [
    "predicted_class_indices=np.argmax(prediction, axis=1)\n",
    "\n",
    "# Generator class dictionary mapping\n",
    "labels = (train_generator.class_indices)\n",
    "labels = dict((v,k) for k,v in labels.items())\n",
    "predictions = [labels[k] for k in predicted_class_indices]\n",
    "\n",
    "submission = pd.read_csv(os.path.join(DATA_PATH, 'sample_submission.csv'))\n",
    "submission[\"class\"] = predictions\n",
    "submission.to_csv(\"submission.csv\", index=False)\n",
    "submission"
   ]
  },
  {
   "cell_type": "code",
   "execution_count": null,
   "metadata": {
    "colab": {},
    "colab_type": "code",
    "id": "KCZMtAvodFck"
   },
   "outputs": [],
   "source": [
    "import base64\n",
    "from IPython.display import HTML\n",
    "\n",
    "def create_download_link( df, title = \"Download CSV file\", filename = \"submission.csv\"):\n",
    "    csv = df.to_csv(index=False)\n",
    "    b64 = base64.b64encode(csv.encode())\n",
    "    payload = b64.decode()\n",
    "    html = '<a download=\"{filename}\" href=\"data:text/csv;base64,{payload}\" target=\"_blank\">{title}</a>'\n",
    "    html = html.format(payload=payload,title=title,filename=filename)\n",
    "    return HTML(html)\n",
    "\n",
    "create_download_link(submission)"
   ]
  },
  {
   "cell_type": "markdown",
   "metadata": {
    "colab_type": "text",
    "id": "gPScirNtdFck"
   },
   "source": []
  },
  {
   "cell_type": "code",
   "execution_count": null,
   "metadata": {
    "colab": {},
    "colab_type": "code",
    "id": "eMS7DA0mdFcl"
   },
   "outputs": [],
   "source": []
  },
  {
   "cell_type": "code",
   "execution_count": null,
   "metadata": {
    "colab": {},
    "colab_type": "code",
    "id": "PwvsmDvkdFcl"
   },
   "outputs": [],
   "source": []
  }
 ],
 "metadata": {
  "accelerator": "GPU",
  "colab": {
   "collapsed_sections": [],
   "name": "cropped_Xception_0712.ipynb",
   "provenance": [],
   "version": "0.3.2"
  },
  "kernelspec": {
   "display_name": "Python 3",
   "language": "python",
   "name": "python3"
  },
  "language_info": {
   "codemirror_mode": {
    "name": "ipython",
    "version": 3
   },
   "file_extension": ".py",
   "mimetype": "text/x-python",
   "name": "python",
   "nbconvert_exporter": "python",
   "pygments_lexer": "ipython3",
   "version": "3.6.8"
  }
 },
 "nbformat": 4,
 "nbformat_minor": 2
}
