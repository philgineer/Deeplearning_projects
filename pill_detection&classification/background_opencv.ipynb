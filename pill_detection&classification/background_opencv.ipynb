{
 "cells": [
  {
   "cell_type": "code",
   "execution_count": 1,
   "metadata": {},
   "outputs": [],
   "source": [
    "import cv2\n",
    "import numpy as np\n",
    "import os\n",
    "\n",
    "#== Parameters =======================================================================\n",
    "BLUR = 5\n",
    "CANNY_THRESH_1 = 15\n",
    "CANNY_THRESH_2 = 210\n",
    "\n",
    "edge_dilate_iterations= 5\n",
    "edge_erode_iterations= 5\n",
    "\n",
    "MASK_DILATE_ITER = 10\n",
    "MASK_ERODE_ITER = 10\n",
    "MASK_COLOR = (0.0,0.0,0.0) # In BGR format\n",
    "\n",
    "\n",
    "kernel = np.ones(5, int) \n",
    "\n",
    "directory = './temp/'\n",
    "\n",
    "#== Processing =======================================================================\n",
    "\n",
    "#-- Read image -----------------------------------------------------------------------\n",
    "for i in os.listdir(directory):\n",
    "    img = cv2.imread(directory + i)\n",
    "    #-- Edge detection -------------------------------------------------------------------\n",
    "    edges = cv2.Canny(img, CANNY_THRESH_1, CANNY_THRESH_2)\n",
    "    \n",
    "    edges = cv2.dilate(edges, kernel, edge_dilate_iterations)\n",
    "    #edges = cv2.dilate(edges, None)\n",
    "    \n",
    "    #edges = cv2.erode(edges, kernel, edge_erode_iterations)\n",
    "    edges = cv2.erode(edges, None)\n",
    "\n",
    "    #-- Find contours in edges, sort by area ---------------------------------------------\n",
    "    contour_info = []\n",
    "    contours, _ = cv2.findContours(edges, cv2.RETR_TREE, cv2.CHAIN_APPROX_NONE)\n",
    "    # Previously, for a previous version of cv2, this line was: \n",
    "    #  contours, _ = cv2.findContours(edges, cv2.RETR_LIST, cv2.CHAIN_APPROX_NONE)\n",
    "    # Thanks to notes from commenters, I've updated the code but left this note\n",
    "    for c in contours:\n",
    "        contour_info.append((\n",
    "            c,\n",
    "            cv2.isContourConvex(c),\n",
    "            cv2.contourArea(c),\n",
    "        ))\n",
    "    contour_info = sorted(contour_info, key=lambda c: c[2], reverse=True)\n",
    "    max_contour = contour_info[0]\n",
    "\n",
    "    #-- Create empty mask, draw filled polygon on it corresponding to largest contour ----\n",
    "    # Mask is black, polygon is white\n",
    "    mask = np.zeros(edges.shape)\n",
    "    cv2.fillConvexPoly(mask, max_contour[0], (255))\n",
    "\n",
    "    #-- Smooth mask, then blur it --------------------------------------------------------\n",
    "    mask = cv2.dilate(mask, None, iterations=MASK_DILATE_ITER)\n",
    "    mask = cv2.erode(mask, None, iterations=MASK_ERODE_ITER)\n",
    "    mask = cv2.GaussianBlur(mask, (BLUR, BLUR), 0)\n",
    "    mask_stack = np.dstack([mask]*3)    # Create 3-channel alpha mask\n",
    "\n",
    "    #-- Blend masked img into MASK_COLOR background --------------------------------------\n",
    "    mask_stack  = mask_stack.astype('float32') / 255.0          # Use float matrices, \n",
    "    img         = img.astype('float32') / 255.0                 #  for easy blending\n",
    "\n",
    "    masked = (mask_stack * img) + ((1-mask_stack) * MASK_COLOR) # Blend\n",
    "    masked = (masked * 255).astype('uint8')                     # Convert back to 8-bit \n",
    "\n",
    "    cv2.imshow('img', masked)                                   # Display\n",
    "    cv2.waitKey()\n",
    "\n",
    "    #cv2.imwrite('C:/Temp/person-masked.jpg', masked)           # Save"
   ]
  },
  {
   "cell_type": "code",
   "execution_count": 1,
   "metadata": {},
   "outputs": [
    {
     "ename": "NameError",
     "evalue": "name 'cv2' is not defined",
     "output_type": "error",
     "traceback": [
      "\u001b[1;31m---------------------------------------------------------------------------\u001b[0m",
      "\u001b[1;31mNameError\u001b[0m                                 Traceback (most recent call last)",
      "\u001b[1;32m<ipython-input-1-92d25c77e4b4>\u001b[0m in \u001b[0;36m<module>\u001b[1;34m\u001b[0m\n\u001b[0;32m      2\u001b[0m \u001b[1;33m\u001b[0m\u001b[0m\n\u001b[0;32m      3\u001b[0m \u001b[1;31m# split image into channels\u001b[0m\u001b[1;33m\u001b[0m\u001b[1;33m\u001b[0m\u001b[1;33m\u001b[0m\u001b[0m\n\u001b[1;32m----> 4\u001b[1;33m \u001b[0mc_red\u001b[0m\u001b[1;33m,\u001b[0m \u001b[0mc_green\u001b[0m\u001b[1;33m,\u001b[0m \u001b[0mc_blue\u001b[0m \u001b[1;33m=\u001b[0m \u001b[0mcv2\u001b[0m\u001b[1;33m.\u001b[0m\u001b[0msplit\u001b[0m\u001b[1;33m(\u001b[0m\u001b[0mimg\u001b[0m\u001b[1;33m)\u001b[0m\u001b[1;33m\u001b[0m\u001b[1;33m\u001b[0m\u001b[0m\n\u001b[0m\u001b[0;32m      5\u001b[0m \u001b[1;33m\u001b[0m\u001b[0m\n\u001b[0;32m      6\u001b[0m \u001b[1;31m# merge with mask got on one of a previous steps\u001b[0m\u001b[1;33m\u001b[0m\u001b[1;33m\u001b[0m\u001b[1;33m\u001b[0m\u001b[0m\n",
      "\u001b[1;31mNameError\u001b[0m: name 'cv2' is not defined"
     ]
    }
   ],
   "source": [
    "import matplotlib.pyplot as plt\n",
    "\n",
    "# split image into channels\n",
    "c_red, c_green, c_blue = cv2.split(img)\n",
    "\n",
    "# merge with mask got on one of a previous steps\n",
    "img_a = cv2.merge((c_red, c_green, c_blue, mask.astype('float32') / 255.0))\n",
    "\n",
    "# show on screen (optional in jupiter)\n",
    "%matplotlib inline\n",
    "plt.imshow(img_a)\n",
    "plt.show()\n",
    "\n",
    "# save to disk\n",
    "#cv2.imwrite('girl_1.png', img_a*255)\n",
    "\n",
    "# or the same using plt\n",
    "#plt.imsave('girl_2.png', img_a)"
   ]
  },
  {
   "cell_type": "code",
   "execution_count": null,
   "metadata": {},
   "outputs": [],
   "source": []
  },
  {
   "cell_type": "code",
   "execution_count": null,
   "metadata": {},
   "outputs": [],
   "source": [
    "## auto crop"
   ]
  },
  {
   "cell_type": "code",
   "execution_count": 4,
   "metadata": {},
   "outputs": [],
   "source": [
    "import cv2 \n",
    "import os"
   ]
  },
  {
   "cell_type": "code",
   "execution_count": 5,
   "metadata": {},
   "outputs": [],
   "source": [
    "directory = './temp/'"
   ]
  },
  {
   "cell_type": "code",
   "execution_count": 8,
   "metadata": {},
   "outputs": [],
   "source": [
    "for i in os.listdir(directory):\n",
    "    image = cv2.imread(directory + i)\n",
    "    gray = cv2.cvtColor(image,cv2.COLOR_BGR2GRAY)\n",
    "    edged = cv2.Canny(gray, 100, 200)  # Canny edge detection\n",
    "    edges = cv2.dilate(edges, None)\n",
    "    edges = cv2.erode(edges, None)\n",
    "    (cnts, _) = cv2.findContours(edged, cv2.RETR_EXTERNAL, cv2.CHAIN_APPROX_SIMPLE)\n",
    "    idx = 0\n",
    "    for c in cnts:\n",
    "        x,y,w,h = cv2.boundingRect(c)\n",
    "        if w>60 and 300>w and h>60 and 300>h:   # w 가로 h 세로 min, max\n",
    "            idx+=1\n",
    "            new_img=image[y:y+h,x:x+w]\n",
    "            cv2.imwrite(i[:-4] + str(idx) + '.jpg', new_img)"
   ]
  },
  {
   "cell_type": "code",
   "execution_count": null,
   "metadata": {},
   "outputs": [],
   "source": [
    "#-- Find contours in edges, sort by area ---------------------------------------------\n",
    "contour_info = []\n",
    "contours, _ = cv2.findContours(edges, cv2.RETR_EXTERNAL, cv2.CHAIN_APPROX_SIMPLE)\n",
    "# Previously, for a previous version of cv2, this line was: \n",
    "#  contours, _ = cv2.findContours(edges, cv2.RETR_LIST, cv2.CHAIN_APPROX_NONE)\n",
    "# Thanks to notes from commenters, I've updated the code but left this note\n",
    "for c in contours:\n",
    "    contour_info.append((\n",
    "        c,\n",
    "        cv2.isContourConvex(c),\n",
    "        cv2.contourArea(c),\n",
    "    ))\n",
    "contour_info = sorted(contour_info, key=lambda c: c[2], reverse=True)\n",
    "max_contour = contour_info[0]\n",
    "\n",
    "#-- Create empty mask, draw filled polygon on it corresponding to largest contour ----\n",
    "# Mask is black, polygon is white\n",
    "mask = np.zeros(edges.shape)\n",
    "cv2.fillConvexPoly(mask, max_contour[0], (255))\n",
    "\n",
    "#-- Smooth mask, then blur it --------------------------------------------------------\n",
    "mask = cv2.dilate(mask, None, iterations=MASK_DILATE_ITER)\n",
    "mask = cv2.erode(mask, None, iterations=MASK_ERODE_ITER)\n",
    "mask = cv2.GaussianBlur(mask, (BLUR, BLUR), 0)\n",
    "mask_stack = np.dstack([mask]*3)    # Create 3-channel alpha mask\n",
    "\n",
    "#-- Blend masked img into MASK_COLOR background --------------------------------------\n",
    "mask_stack  = mask_stack.astype('float32') / 255.0          # Use float matrices, \n",
    "img         = img.astype('float32') / 255.0                 #  for easy blending\n",
    "\n",
    "masked = (mask_stack * img) + ((1-mask_stack) * MASK_COLOR) # Blend\n",
    "masked = (masked * 255).astype('uint8')                     # Convert back to 8-bit \n",
    "\n",
    "cv2.imshow('img', masked)                                   # Display\n",
    "cv2.waitKey()\n",
    "\n",
    "#cv2.imwrite('C:/Temp/person-masked.jpg', masked)           # Save"
   ]
  }
 ],
 "metadata": {
  "kernelspec": {
   "display_name": "Python 3",
   "language": "python",
   "name": "python3"
  },
  "language_info": {
   "codemirror_mode": {
    "name": "ipython",
    "version": 3
   },
   "file_extension": ".py",
   "mimetype": "text/x-python",
   "name": "python",
   "nbconvert_exporter": "python",
   "pygments_lexer": "ipython3",
   "version": "3.6.8"
  }
 },
 "nbformat": 4,
 "nbformat_minor": 2
}
