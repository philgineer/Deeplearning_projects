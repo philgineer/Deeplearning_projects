{
 "cells": [
  {
   "cell_type": "code",
   "execution_count": 1,
   "id": "neither-norway",
   "metadata": {},
   "outputs": [
    {
     "name": "stdout",
     "output_type": "stream",
     "text": [
      "PyTorch version:[1.7.1].\n",
      "device:[cpu].\n"
     ]
    }
   ],
   "source": [
    "import numpy as np\n",
    "import matplotlib.pyplot as plt\n",
    "import torch\n",
    "import torch.nn as nn\n",
    "import torch.optim as optim\n",
    "import torch.nn.functional as F\n",
    "\n",
    "%matplotlib inline\n",
    "%config InlineBackend.figure_format='retina'\n",
    "\n",
    "print(\"PyTorch version:[%s].\" % (torch.__version__))\n",
    "device = torch.device('cuda:0' if torch.cuda.is_available() else 'cpu')\n",
    "print('device:[%s].' % (device))"
   ]
  },
  {
   "cell_type": "code",
   "execution_count": 2,
   "id": "dynamic-williams",
   "metadata": {},
   "outputs": [
    {
     "name": "stdout",
     "output_type": "stream",
     "text": [
      "Downloading http://yann.lecun.com/exdb/mnist/train-images-idx3-ubyte.gz to ./data/MNIST/raw/train-images-idx3-ubyte.gz\n"
     ]
    },
    {
     "data": {
      "application/vnd.jupyter.widget-view+json": {
       "model_id": "bfda5e67254540af9a2c264038f3f355",
       "version_major": 2,
       "version_minor": 0
      },
      "text/plain": [
       "0it [00:00, ?it/s]"
      ]
     },
     "metadata": {},
     "output_type": "display_data"
    },
    {
     "name": "stdout",
     "output_type": "stream",
     "text": [
      "Extracting ./data/MNIST/raw/train-images-idx3-ubyte.gz to ./data/MNIST/raw\n",
      "Downloading http://yann.lecun.com/exdb/mnist/train-labels-idx1-ubyte.gz to ./data/MNIST/raw/train-labels-idx1-ubyte.gz\n"
     ]
    },
    {
     "data": {
      "application/vnd.jupyter.widget-view+json": {
       "model_id": "e2014c36a5384221a12cd3f1e668e477",
       "version_major": 2,
       "version_minor": 0
      },
      "text/plain": [
       "0it [00:00, ?it/s]"
      ]
     },
     "metadata": {},
     "output_type": "display_data"
    },
    {
     "name": "stdout",
     "output_type": "stream",
     "text": [
      "Extracting ./data/MNIST/raw/train-labels-idx1-ubyte.gz to ./data/MNIST/raw\n",
      "Downloading http://yann.lecun.com/exdb/mnist/t10k-images-idx3-ubyte.gz to ./data/MNIST/raw/t10k-images-idx3-ubyte.gz\n"
     ]
    },
    {
     "data": {
      "application/vnd.jupyter.widget-view+json": {
       "model_id": "e117d8ea5d9443b789d27ebfeb54b5e5",
       "version_major": 2,
       "version_minor": 0
      },
      "text/plain": [
       "0it [00:00, ?it/s]"
      ]
     },
     "metadata": {},
     "output_type": "display_data"
    },
    {
     "name": "stdout",
     "output_type": "stream",
     "text": [
      "Extracting ./data/MNIST/raw/t10k-images-idx3-ubyte.gz to ./data/MNIST/raw\n",
      "Downloading http://yann.lecun.com/exdb/mnist/t10k-labels-idx1-ubyte.gz to ./data/MNIST/raw/t10k-labels-idx1-ubyte.gz\n"
     ]
    },
    {
     "data": {
      "application/vnd.jupyter.widget-view+json": {
       "model_id": "af9270fcb3bf4df7bd25a1f998f2ac5c",
       "version_major": 2,
       "version_minor": 0
      },
      "text/plain": [
       "0it [00:00, ?it/s]"
      ]
     },
     "metadata": {},
     "output_type": "display_data"
    },
    {
     "name": "stdout",
     "output_type": "stream",
     "text": [
      "Extracting ./data/MNIST/raw/t10k-labels-idx1-ubyte.gz to ./data/MNIST/raw\n",
      "Processing...\n",
      "Done!\n",
      "mnist_train:\n",
      " Dataset MNIST\n",
      "    Number of datapoints: 60000\n",
      "    Root location: ./data/\n",
      "    Split: Train\n",
      "    StandardTransform\n",
      "Transform: ToTensor() \n",
      "\n",
      "mnist_test:\n",
      " Dataset MNIST\n",
      "    Number of datapoints: 10000\n",
      "    Root location: ./data/\n",
      "    Split: Test\n",
      "    StandardTransform\n",
      "Transform: ToTensor() \n",
      "\n",
      "Done.\n"
     ]
    },
    {
     "name": "stderr",
     "output_type": "stream",
     "text": [
      "/Users/junyun/miniconda3/envs/boostcamp/lib/python3.8/site-packages/torchvision/datasets/mnist.py:480: UserWarning: The given NumPy array is not writeable, and PyTorch does not support non-writeable tensors. This means you can write to the underlying (supposedly non-writeable) NumPy array using the tensor. You may want to copy the array to protect its data or make it writeable before converting it to a tensor. This type of warning will be suppressed for the rest of this program. (Triggered internally at  ../torch/csrc/utils/tensor_numpy.cpp:141.)\n",
      "  return torch.from_numpy(parsed.astype(m[2], copy=False)).view(*s)\n"
     ]
    }
   ],
   "source": [
    "from torchvision import datasets, transforms\n",
    "\n",
    "mnist_train = datasets.MNIST(root='./data/', train=True,\n",
    "                             transform=transforms.ToTensor(),\n",
    "                             download=True)\n",
    "mnist_test = datasets.MNIST(root='./data/', train=False,\n",
    "                            transform=transforms.ToTensor(),\n",
    "                            download=True)\n",
    "\n",
    "print('mnist_train:\\n', mnist_train, '\\n')\n",
    "print('mnist_test:\\n', mnist_test, '\\n')\n",
    "print('Done.')"
   ]
  },
  {
   "cell_type": "code",
   "execution_count": 3,
   "id": "british-cleaning",
   "metadata": {},
   "outputs": [
    {
     "name": "stdout",
     "output_type": "stream",
     "text": [
      "Done.\n"
     ]
    }
   ],
   "source": [
    "BATCH_SIZE = 256\n",
    "train_iter = torch.utils.data.DataLoader(mnist_train, batch_size=BATCH_SIZE,\n",
    "                                         shuffle=True, num_workers=1)\n",
    "test_iter = torch.utils.data.DataLoader(mnist_test, batch_size=BATCH_SIZE,\n",
    "                                        shuffle=True, num_workers=1)\n",
    "print('Done.')"
   ]
  },
  {
   "cell_type": "code",
   "execution_count": 4,
   "id": "massive-model",
   "metadata": {},
   "outputs": [
    {
     "name": "stdout",
     "output_type": "stream",
     "text": [
      "Done.\n"
     ]
    }
   ],
   "source": [
    "class MultiLayerPerceptronClass(nn.Module):\n",
    "    \n",
    "    def __init__(self, name='mlp', xdim=784, hdim=256, ydim=10):\n",
    "        super(MultiLayerPerceptronClass, self).__init__()\n",
    "        self.name = name\n",
    "        self.xdim = xdim\n",
    "        self.hdim = hdim\n",
    "        self.ydim = ydim\n",
    "        self.lin_1 = nn.Linear(self.xdim, self.hdim)\n",
    "        self.lin_2 = nn.Linear(self.hdim, self.ydim)\n",
    "        self.init_param()\n",
    "        \n",
    "    def init_param(self):\n",
    "        nn.init.kaiming_normal_(self.lin_1.weight)\n",
    "        nn.init.zeros_(self.lin_1.bias)\n",
    "        nn.init.kaiming_normal_(self.lin_2.weight)\n",
    "        nn.init.zeros_(self.lin_2.bias)\n",
    "        \n",
    "    def forward(self, x):\n",
    "        net = x\n",
    "        net = self.lin_1(net)\n",
    "        net = F.relu(net)\n",
    "        net = self.lin_2(net)\n",
    "        return net\n",
    "    \n",
    "\n",
    "M = MultiLayerPerceptronClass().to(device)\n",
    "loss = nn.CrossEntropyLoss()\n",
    "optm = optim.Adam(M.parameters(), lr=1e-3)\n",
    "print('Done.')"
   ]
  },
  {
   "cell_type": "code",
   "execution_count": 7,
   "id": "incorporated-jungle",
   "metadata": {},
   "outputs": [
    {
     "name": "stdout",
     "output_type": "stream",
     "text": [
      "x_numpy:\n",
      " [[0.83140954 0.42313279 0.16692963 ... 0.65983391 0.79501392 0.92892332]\n",
      " [0.27840975 0.0157468  0.39008997 ... 0.86542812 0.56059916 0.29165262]]\n",
      "x_torch:\n",
      " tensor([[0.8314, 0.4231, 0.1669,  ..., 0.6598, 0.7950, 0.9289],\n",
      "        [0.2784, 0.0157, 0.3901,  ..., 0.8654, 0.5606, 0.2917]])\n",
      "y_numpy:\n",
      " [[ 0.34105998 -0.8885688   0.48225087  1.0050977   0.21888046  0.39247447\n",
      "   0.3111878  -0.07598683  0.08612835 -0.20719811]\n",
      " [-0.38350615 -0.8814891  -0.13781187  0.5543524  -0.44071674  1.0001659\n",
      "  -0.02410066 -0.15840352  0.7614591  -1.6759697 ]]\n",
      "y_torch:\n",
      " tensor([[ 0.3411, -0.8886,  0.4823,  1.0051,  0.2189,  0.3925,  0.3112, -0.0760,\n",
      "          0.0861, -0.2072],\n",
      "        [-0.3835, -0.8815, -0.1378,  0.5544, -0.4407,  1.0002, -0.0241, -0.1584,\n",
      "          0.7615, -1.6760]], grad_fn=<AddmmBackward>)\n"
     ]
    }
   ],
   "source": [
    "x_numpy = np.random.rand(2,784)\n",
    "x_torch = torch.from_numpy(x_numpy).float().to(device)\n",
    "y_torch = M.forward(x_torch)\n",
    "y_numpy = y_torch.detach().cpu().numpy()\n",
    "print('x_numpy:\\n', x_numpy)\n",
    "print('x_torch:\\n', x_torch)\n",
    "print('y_numpy:\\n', y_numpy)\n",
    "print('y_torch:\\n', y_torch)"
   ]
  },
  {
   "cell_type": "code",
   "execution_count": 11,
   "id": "metropolitan-deputy",
   "metadata": {},
   "outputs": [
    {
     "name": "stdout",
     "output_type": "stream",
     "text": [
      "[0] name:[lin_1.weight] shape:[(256, 784)].\n",
      "    val:[-0.038 -0.052 -0.111 -0.003 -0.019]\n",
      "[1] name:[lin_1.bias] shape:[(256,)].\n",
      "    val:[0. 0. 0. 0. 0.]\n",
      "[2] name:[lin_2.weight] shape:[(10, 256)].\n",
      "    val:[ 0.106 -0.074  0.094  0.03  -0.059]\n",
      "[3] name:[lin_2.bias] shape:[(10,)].\n",
      "    val:[0. 0. 0. 0. 0.]\n"
     ]
    }
   ],
   "source": [
    "np.set_printoptions(precision=3)\n",
    "n_param = 0\n",
    "for p_idx, (param_name, param) in enumerate(M.named_parameters()):\n",
    "    param_numpy = param.detach().cpu().numpy()\n",
    "    n_param += len(param_numpy.reshape(-1))\n",
    "    print('[%d] name:[%s] shape:[%s].' % (p_idx, param_name, param_numpy.shape))\n",
    "    print('    val:%s' % (param_numpy.reshape(-1)[:5]))"
   ]
  },
  {
   "cell_type": "code",
   "execution_count": 33,
   "id": "genuine-mileage",
   "metadata": {
    "scrolled": true
   },
   "outputs": [
    {
     "data": {
      "text/plain": [
       "tensor(0.9000)"
      ]
     },
     "execution_count": 33,
     "metadata": {},
     "output_type": "execute_result"
    }
   ],
   "source": [
    "torch.max(torch.tensor([[0.7, 0.3, 0.1],\n",
    "                        [0.8, 0.2, 0.9]]))"
   ]
  },
  {
   "cell_type": "code",
   "execution_count": 34,
   "id": "liberal-former",
   "metadata": {
    "scrolled": true
   },
   "outputs": [
    {
     "data": {
      "text/plain": [
       "torch.return_types.max(\n",
       "values=tensor([0.8000, 0.3000, 0.9000]),\n",
       "indices=tensor([1, 0, 1]))"
      ]
     },
     "execution_count": 34,
     "metadata": {},
     "output_type": "execute_result"
    }
   ],
   "source": [
    "torch.max(torch.tensor([[0.7, 0.3, 0.1],\n",
    "                        [0.8, 0.2, 0.9]]), 0)"
   ]
  },
  {
   "cell_type": "code",
   "execution_count": 30,
   "id": "exciting-customer",
   "metadata": {
    "scrolled": true
   },
   "outputs": [
    {
     "data": {
      "text/plain": [
       "tensor([1, 0, 1])"
      ]
     },
     "execution_count": 30,
     "metadata": {},
     "output_type": "execute_result"
    }
   ],
   "source": [
    "torch.max(torch.tensor([[0.7, 0.3, 0.1],\n",
    "                        [0.8, 0.2, 0.9]]), 0)[1]"
   ]
  },
  {
   "cell_type": "code",
   "execution_count": 31,
   "id": "designing-cooperation",
   "metadata": {
    "scrolled": true
   },
   "outputs": [
    {
     "data": {
      "text/plain": [
       "tensor([0, 2])"
      ]
     },
     "execution_count": 31,
     "metadata": {},
     "output_type": "execute_result"
    }
   ],
   "source": [
    "torch.max(torch.tensor([[0.7, 0.3, 0.1],\n",
    "                        [0.8, 0.2, 0.9]]), 1)[1]"
   ]
  },
  {
   "cell_type": "code",
   "execution_count": 35,
   "id": "vulnerable-testimony",
   "metadata": {},
   "outputs": [
    {
     "name": "stdout",
     "output_type": "stream",
     "text": [
      "Done.\n"
     ]
    }
   ],
   "source": [
    "def func_eval(model, data_iter, device):\n",
    "    with torch.no_grad():\n",
    "        model.eval()\n",
    "        n_total, n_correct = 0, 0\n",
    "        for batch_in, batch_out in data_iter:\n",
    "            y_trgt = batch_out.to(device)\n",
    "            model_pred = model(batch_in.view(-1, 28*28).to(device))\n",
    "            _, y_pred = torch.max(model_pred.data, 1)\n",
    "            n_correct += (y_pred == y_trgt).sum().item()\n",
    "            n_total += batch_in.size(0)\n",
    "        val_acc = (n_correct / n_total)\n",
    "        model.train()\n",
    "    return val_acc\n",
    "print('Done.')"
   ]
  },
  {
   "cell_type": "code",
   "execution_count": 37,
   "id": "perfect-blocking",
   "metadata": {},
   "outputs": [
    {
     "name": "stdout",
     "output_type": "stream",
     "text": [
      "train_acc: [0.080] test_acc: [0.088].\n"
     ]
    }
   ],
   "source": [
    "M.init_param()\n",
    "train_acc = func_eval(M, train_iter, device)\n",
    "test_acc = func_eval(M, test_iter, device)\n",
    "print('train_acc: [%.3f] test_acc: [%.3f].' % (train_acc, test_acc))"
   ]
  },
  {
   "cell_type": "code",
   "execution_count": 38,
   "id": "passing-question",
   "metadata": {},
   "outputs": [
    {
     "name": "stdout",
     "output_type": "stream",
     "text": [
      "Start training.\n",
      "epoch:[0] loss[0.379] train_acc:[0.945] test_acc:[0.944].\n",
      "epoch:[1] loss[0.167] train_acc:[0.963] test_acc:[0.960].\n",
      "epoch:[2] loss[0.120] train_acc:[0.973] test_acc:[0.967].\n",
      "epoch:[3] loss[0.092] train_acc:[0.980] test_acc:[0.973].\n",
      "epoch:[4] loss[0.072] train_acc:[0.984] test_acc:[0.975].\n",
      "epoch:[5] loss[0.058] train_acc:[0.988] test_acc:[0.976].\n",
      "epoch:[6] loss[0.048] train_acc:[0.991] test_acc:[0.978].\n",
      "epoch:[7] loss[0.040] train_acc:[0.992] test_acc:[0.977].\n",
      "epoch:[8] loss[0.033] train_acc:[0.994] test_acc:[0.978].\n",
      "epoch:[9] loss[0.028] train_acc:[0.995] test_acc:[0.978].\n",
      "Done.\n"
     ]
    }
   ],
   "source": [
    "print('Start training.')\n",
    "M.init_param()\n",
    "M.train()\n",
    "EPOCHS, print_every = 10, 1\n",
    "for epoch in range(EPOCHS):\n",
    "    loss_val_sum = 0\n",
    "    for batch_in, batch_out in train_iter:\n",
    "        y_pred = M.forward(batch_in.view(-1, 28*28).to(device))\n",
    "        loss_out = loss(y_pred, batch_out.to(device))\n",
    "        optm.zero_grad()\n",
    "        loss_out.backward()\n",
    "        optm.step()\n",
    "        loss_val_sum += loss_out\n",
    "    loss_val_avg = loss_val_sum / len(train_iter)\n",
    "    \n",
    "    if ((epoch % print_every) == 0) or (epoch == (EPOCHS - 1)):\n",
    "        train_acc = func_eval(M, train_iter, device)\n",
    "        test_acc = func_eval(M, test_iter, device)\n",
    "        print('epoch:[%d] loss[%.3f] train_acc:[%.3f] test_acc:[%.3f].'\n",
    "              % (epoch, loss_val_avg, train_acc, test_acc))\n",
    "print('Done.')"
   ]
  },
  {
   "cell_type": "code",
   "execution_count": 39,
   "id": "worth-prisoner",
   "metadata": {},
   "outputs": [
    {
     "data": {
      "image/png": "[encoded data removed]",
      "text/plain": [
       "<Figure size 720x720 with 25 Axes>"
      ]
     },
     "metadata": {
      "image/png": {
       "height": 573,
       "width": 569
      },
      "needs_background": "light"
     },
     "output_type": "display_data"
    },
    {
     "name": "stdout",
     "output_type": "stream",
     "text": [
      "Done.\n"
     ]
    }
   ],
   "source": [
    "n_sample = 25\n",
    "sample_indices = np.random.choice(len(mnist_test.targets), n_sample, replace=False)\n",
    "test_x = mnist_test.data[sample_indices]\n",
    "test_y = mnist_test.targets[sample_indices]\n",
    "with torch.no_grad():\n",
    "    y_pred = M.forward(test_x.view(-1, 28*28).type(torch.float).to(device)/255.)\n",
    "y_pred = y_pred.argmax(axis=1)\n",
    "plt.figure(figsize=(10,10))\n",
    "for idx in range(n_sample):\n",
    "    plt.subplot(5, 5, idx+1)\n",
    "    plt.imshow(test_x[idx], cmap='gray')\n",
    "    plt.axis('off')\n",
    "    plt.title('Pred:%d, Label:%d' % (y_pred[idx], test_y[idx]))\n",
    "plt.show()\n",
    "print('Done.')"
   ]
  },
  {
   "cell_type": "code",
   "execution_count": null,
   "id": "black-science",
   "metadata": {},
   "outputs": [],
   "source": []
  }
 ],
 "metadata": {
  "kernelspec": {
   "display_name": "Python 3",
   "language": "python",
   "name": "python3"
  },
  "language_info": {
   "codemirror_mode": {
    "name": "ipython",
    "version": 3
   },
   "file_extension": ".py",
   "mimetype": "text/x-python",
   "name": "python",
   "nbconvert_exporter": "python",
   "pygments_lexer": "ipython3",
   "version": "3.8.5"
  }
 },
 "nbformat": 4,
 "nbformat_minor": 5
}
