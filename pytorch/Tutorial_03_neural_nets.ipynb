{
 "cells": [
  {
   "cell_type": "code",
   "execution_count": 8,
   "id": "scheduled-hometown",
   "metadata": {},
   "outputs": [
    {
     "name": "stdout",
     "output_type": "stream",
     "text": [
      "Net(\n",
      "  (conv1): Conv2d(1, 6, kernel_size=(3, 3), stride=(1, 1))\n",
      "  (conv2): Conv2d(6, 16, kernel_size=(3, 3), stride=(1, 1))\n",
      "  (fc1): Linear(in_features=576, out_features=120, bias=True)\n",
      "  (fc2): Linear(in_features=120, out_features=84, bias=True)\n",
      "  (fc3): Linear(in_features=84, out_features=10, bias=True)\n",
      ")\n"
     ]
    }
   ],
   "source": [
    "import torch\n",
    "import torch.nn as nn\n",
    "import torch.nn.functional as F\n",
    "\n",
    "class Net(nn.Module):\n",
    "    \n",
    "    def __init__(self):\n",
    "        super(Net, self).__init__()\n",
    "        # 컨볼루션 커널 정의\n",
    "        self.conv1 = nn.Conv2d(1, 6, 3) # input, output, kernel size\n",
    "        self.conv2 = nn.Conv2d(6, 16, 3)\n",
    "        # affine 연산: y = Wx + b\n",
    "        self.fc1 = nn.Linear(16 * 6 * 6, 120) # 6*6: 이미지 차원\n",
    "        self.fc2 = nn.Linear(120, 84)\n",
    "        self.fc3 = nn.Linear(84, 10)\n",
    "        \n",
    "    def forward(self, x):\n",
    "        # (2,2) 크기 윈도우에 대해 max pooling\n",
    "        x = F.max_pool2d(F.relu(self.conv1(x)), (2,2))\n",
    "        # 크기가 제곱수라면 하나의 숫자만을 특정\n",
    "        x = F.max_pool2d(F.relu(self.conv2(x)), 2)\n",
    "        x = x.view(-1, self.num_flat_features(x))\n",
    "        x = F.relu(self.fc1(x))\n",
    "        x = F.relu(self.fc2(x))\n",
    "        x = self.fc3(x)\n",
    "        return x\n",
    "    \n",
    "    def num_flat_features(self, x):\n",
    "        size = x.size()[1:] # 배치 차원 제외\n",
    "        num_features = 1\n",
    "        for s in size:\n",
    "            num_features *= s\n",
    "        return num_features\n",
    "    \n",
    "net = Net()\n",
    "print(net)"
   ]
  },
  {
   "cell_type": "code",
   "execution_count": 10,
   "id": "harmful-healthcare",
   "metadata": {},
   "outputs": [
    {
     "name": "stdout",
     "output_type": "stream",
     "text": [
      "10\n",
      "torch.Size([6, 1, 3, 3])\n"
     ]
    }
   ],
   "source": [
    "params = list(net.parameters())\n",
    "print(len(params))\n",
    "print(params[0].size()) # conv1의 weight"
   ]
  },
  {
   "cell_type": "code",
   "execution_count": 11,
   "id": "formed-english",
   "metadata": {},
   "outputs": [
    {
     "name": "stdout",
     "output_type": "stream",
     "text": [
      "tensor([[ 0.0194, -0.0281,  0.0331, -0.1446,  0.0275, -0.0800, -0.1162, -0.0733,\n",
      "          0.0748, -0.0519]], grad_fn=<AddmmBackward>)\n"
     ]
    }
   ],
   "source": [
    "input = torch.randn(1, 1, 32, 32) # 32x32 크기의 임의의 input\n",
    "out = net(input)\n",
    "print(out)"
   ]
  },
  {
   "cell_type": "code",
   "execution_count": 12,
   "id": "excited-fusion",
   "metadata": {},
   "outputs": [],
   "source": [
    "net.zero_grad() # 모든 매개변수의 gradient buffer를 0으로 설정\n",
    "out.backward(torch.randn(1, 10)) # 역전파"
   ]
  },
  {
   "cell_type": "markdown",
   "id": "weekly-teaching",
   "metadata": {},
   "source": [
    "## Loss function"
   ]
  },
  {
   "cell_type": "code",
   "execution_count": 13,
   "id": "illegal-mills",
   "metadata": {},
   "outputs": [
    {
     "name": "stdout",
     "output_type": "stream",
     "text": [
      "tensor(1.3390, grad_fn=<MseLossBackward>)\n"
     ]
    }
   ],
   "source": [
    "output = net(input)\n",
    "target = torch.randn(10)\n",
    "target = target.view(1, -1)\n",
    "criterion = nn.MSELoss()\n",
    "\n",
    "loss = criterion(output, target)\n",
    "print(loss)"
   ]
  },
  {
   "cell_type": "markdown",
   "id": "unavailable-gateway",
   "metadata": {},
   "source": [
    " loss.backward() 를 실행할 때, 전체 그래프는 손실(loss)에 대하여 미분되며, 그래프 내의 requires_grad=True 인 모든 Tensor는 변화도(gradient)가 누적된 .grad Tensor를 갖게 됩니다."
   ]
  },
  {
   "cell_type": "code",
   "execution_count": 20,
   "id": "normal-essence",
   "metadata": {},
   "outputs": [
    {
     "name": "stdout",
     "output_type": "stream",
     "text": [
      "<MseLossBackward object at 0x7fae107529a0>\n",
      "<AddmmBackward object at 0x7fade0035dc0>\n",
      "<AccumulateGrad object at 0x7fade0035310>\n"
     ]
    }
   ],
   "source": [
    "print(loss.grad_fn) # MSE loss\n",
    "print(loss.grad_fn.next_functions[0][0]) # Linear\n",
    "print(loss.grad_fn.next_functions[0][0].next_functions[0][0]) # ReLU"
   ]
  },
  {
   "cell_type": "code",
   "execution_count": 21,
   "id": "unique-wheat",
   "metadata": {},
   "outputs": [
    {
     "name": "stdout",
     "output_type": "stream",
     "text": [
      "conv1.bias.grad before backward: tensor([0., 0., 0., 0., 0., 0.])\n",
      "conv1.bias.grad after backward: tensor([ 0.0050,  0.0074,  0.0071,  0.0028, -0.0197,  0.0201])\n"
     ]
    }
   ],
   "source": [
    "net.zero_grad()\n",
    "print(\"conv1.bias.grad before backward:\", net.conv1.bias.grad)\n",
    "loss.backward()\n",
    "print(\"conv1.bias.grad after backward:\", net.conv1.bias.grad)"
   ]
  },
  {
   "cell_type": "code",
   "execution_count": 22,
   "id": "corrected-blanket",
   "metadata": {},
   "outputs": [],
   "source": [
    "learning_rate = 0.01\n",
    "for f in net.parameters():\n",
    "    f.data.sub_(f.grad.data * learning_rate)"
   ]
  },
  {
   "cell_type": "code",
   "execution_count": 23,
   "id": "closing-stockholm",
   "metadata": {},
   "outputs": [],
   "source": [
    "import torch.optim as optim\n",
    "# SGD, Nesterov-SGD, Adam, RMSProp 등"
   ]
  },
  {
   "cell_type": "code",
   "execution_count": 24,
   "id": "recognized-discovery",
   "metadata": {},
   "outputs": [],
   "source": [
    "optimizer = optim.SGD(net.parameters(), lr=0.01)\n",
    "\n",
    "# training loop\n",
    "optimizer.zero_grad()\n",
    "output = net(input)\n",
    "loss = criterion(output, target)\n",
    "loss.backward()\n",
    "optimizer.step()"
   ]
  }
 ],
 "metadata": {
  "kernelspec": {
   "display_name": "Python 3",
   "language": "python",
   "name": "python3"
  },
  "language_info": {
   "codemirror_mode": {
    "name": "ipython",
    "version": 3
   },
   "file_extension": ".py",
   "mimetype": "text/x-python",
   "name": "python",
   "nbconvert_exporter": "python",
   "pygments_lexer": "ipython3",
   "version": "3.8.5"
  }
 },
 "nbformat": 4,
 "nbformat_minor": 5
}
